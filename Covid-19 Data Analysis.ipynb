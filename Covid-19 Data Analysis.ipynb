{
 "cells": [
  {
   "cell_type": "markdown",
   "id": "4227da1f",
   "metadata": {},
   "source": [
    "# COVID-19 Data Analysis Cases"
   ]
  },
  {
   "cell_type": "code",
   "execution_count": 2,
   "id": "82aa8e7c",
   "metadata": {},
   "outputs": [],
   "source": [
    "# STEP 1: Import necessary libraries\n",
    "import pandas as pd\n",
    "import matplotlib.pyplot as plt\n",
    "import seaborn as sns\n",
    "\n",
    "# Set visualization style\n",
    "plt.style.use('ggplot')\n",
    "%matplotlib inline"
   ]
  },
  {
   "cell_type": "markdown",
   "id": "21d79867",
   "metadata": {},
   "source": [
    "# Load and Prepare the Data"
   ]
  },
  {
   "cell_type": "code",
   "execution_count": 4,
   "id": "7937fe82",
   "metadata": {},
   "outputs": [
    {
     "name": "stdout",
     "output_type": "stream",
     "text": [
      "Data loaded successfully. First few rows:\n"
     ]
    },
    {
     "data": {
      "text/html": [
       "<div>\n",
       "<style scoped>\n",
       "    .dataframe tbody tr th:only-of-type {\n",
       "        vertical-align: middle;\n",
       "    }\n",
       "\n",
       "    .dataframe tbody tr th {\n",
       "        vertical-align: top;\n",
       "    }\n",
       "\n",
       "    .dataframe thead th {\n",
       "        text-align: right;\n",
       "    }\n",
       "</style>\n",
       "<table border=\"1\" class=\"dataframe\">\n",
       "  <thead>\n",
       "    <tr style=\"text-align: right;\">\n",
       "      <th></th>\n",
       "      <th>Province/State</th>\n",
       "      <th>Country/Region</th>\n",
       "      <th>Lat</th>\n",
       "      <th>Long</th>\n",
       "      <th>Date</th>\n",
       "      <th>Confirmed</th>\n",
       "      <th>Deaths</th>\n",
       "      <th>Recovered</th>\n",
       "      <th>Active</th>\n",
       "      <th>WHO Region</th>\n",
       "      <th>Location</th>\n",
       "    </tr>\n",
       "  </thead>\n",
       "  <tbody>\n",
       "    <tr>\n",
       "      <th>0</th>\n",
       "      <td>National</td>\n",
       "      <td>Afghanistan</td>\n",
       "      <td>33.93911</td>\n",
       "      <td>67.709953</td>\n",
       "      <td>2020-01-22</td>\n",
       "      <td>0</td>\n",
       "      <td>0</td>\n",
       "      <td>0</td>\n",
       "      <td>0</td>\n",
       "      <td>Eastern Mediterranean</td>\n",
       "      <td>Afghanistan</td>\n",
       "    </tr>\n",
       "    <tr>\n",
       "      <th>1</th>\n",
       "      <td>National</td>\n",
       "      <td>Albania</td>\n",
       "      <td>41.15330</td>\n",
       "      <td>20.168300</td>\n",
       "      <td>2020-01-22</td>\n",
       "      <td>0</td>\n",
       "      <td>0</td>\n",
       "      <td>0</td>\n",
       "      <td>0</td>\n",
       "      <td>Europe</td>\n",
       "      <td>Albania</td>\n",
       "    </tr>\n",
       "    <tr>\n",
       "      <th>2</th>\n",
       "      <td>National</td>\n",
       "      <td>Algeria</td>\n",
       "      <td>28.03390</td>\n",
       "      <td>1.659600</td>\n",
       "      <td>2020-01-22</td>\n",
       "      <td>0</td>\n",
       "      <td>0</td>\n",
       "      <td>0</td>\n",
       "      <td>0</td>\n",
       "      <td>Africa</td>\n",
       "      <td>Algeria</td>\n",
       "    </tr>\n",
       "    <tr>\n",
       "      <th>3</th>\n",
       "      <td>National</td>\n",
       "      <td>Andorra</td>\n",
       "      <td>42.50630</td>\n",
       "      <td>1.521800</td>\n",
       "      <td>2020-01-22</td>\n",
       "      <td>0</td>\n",
       "      <td>0</td>\n",
       "      <td>0</td>\n",
       "      <td>0</td>\n",
       "      <td>Europe</td>\n",
       "      <td>Andorra</td>\n",
       "    </tr>\n",
       "    <tr>\n",
       "      <th>4</th>\n",
       "      <td>National</td>\n",
       "      <td>Angola</td>\n",
       "      <td>-11.20270</td>\n",
       "      <td>17.873900</td>\n",
       "      <td>2020-01-22</td>\n",
       "      <td>0</td>\n",
       "      <td>0</td>\n",
       "      <td>0</td>\n",
       "      <td>0</td>\n",
       "      <td>Africa</td>\n",
       "      <td>Angola</td>\n",
       "    </tr>\n",
       "  </tbody>\n",
       "</table>\n",
       "</div>"
      ],
      "text/plain": [
       "  Province/State Country/Region       Lat       Long       Date  Confirmed  \\\n",
       "0       National    Afghanistan  33.93911  67.709953 2020-01-22          0   \n",
       "1       National        Albania  41.15330  20.168300 2020-01-22          0   \n",
       "2       National        Algeria  28.03390   1.659600 2020-01-22          0   \n",
       "3       National        Andorra  42.50630   1.521800 2020-01-22          0   \n",
       "4       National         Angola -11.20270  17.873900 2020-01-22          0   \n",
       "\n",
       "   Deaths  Recovered  Active             WHO Region     Location  \n",
       "0       0          0       0  Eastern Mediterranean  Afghanistan  \n",
       "1       0          0       0                 Europe      Albania  \n",
       "2       0          0       0                 Africa      Algeria  \n",
       "3       0          0       0                 Europe      Andorra  \n",
       "4       0          0       0                 Africa       Angola  "
      ]
     },
     "metadata": {},
     "output_type": "display_data"
    }
   ],
   "source": [
    "# Load the dataset\n",
    "df = pd.read_csv('covid_19_clean_complete.csv', parse_dates=['Date'])\n",
    "\n",
    "# Fill missing province/state values\n",
    "df['Province/State'] = df['Province/State'].fillna('National')\n",
    "\n",
    "# Create a location identifier\n",
    "df['Location'] = df.apply(lambda x: x['Country/Region'] if x['Province/State'] == 'National' \n",
    "                          else f\"{x['Province/State']}, {x['Country/Region']}\", axis=1)\n",
    "\n",
    "# Calculate active cases\n",
    "df['Active'] = df['Confirmed'] - df['Deaths'] - df['Recovered']\n",
    "\n",
    "# Verify the data\n",
    "print(\"Data loaded successfully. First few rows:\")\n",
    "display(df.head())"
   ]
  },
  {
   "cell_type": "markdown",
   "id": "32767371",
   "metadata": {},
   "source": [
    "# Global Trends Analysis"
   ]
  },
  {
   "cell_type": "code",
   "execution_count": 5,
   "id": "341c6bf0",
   "metadata": {},
   "outputs": [
    {
     "data": {
      "image/png": "[encoded data removed]",
      "text/plain": [
       "<Figure size 864x432 with 1 Axes>"
      ]
     },
     "metadata": {
      "needs_background": "light"
     },
     "output_type": "display_data"
    }
   ],
   "source": [
    "# Group by date for global totals\n",
    "global_trends = df.groupby('Date')[['Confirmed', 'Deaths', 'Recovered', 'Active']].sum()\n",
    "\n",
    "# Plot global trends\n",
    "plt.figure(figsize=(12,6))\n",
    "plt.plot(global_trends.index, global_trends['Confirmed'], label='Confirmed')\n",
    "plt.plot(global_trends.index, global_trends['Deaths'], label='Deaths', color='red')\n",
    "plt.plot(global_trends.index, global_trends['Recovered'], label='Recovered', color='green')\n",
    "plt.title('Global COVID-19 Cases Over Time')\n",
    "plt.xlabel('Date')\n",
    "plt.ylabel('Number of Cases')\n",
    "plt.legend()\n",
    "plt.xticks(rotation=45)\n",
    "plt.show()"
   ]
  },
  {
   "cell_type": "markdown",
   "id": "e6f3efdd",
   "metadata": {},
   "source": [
    "# Country-Level Analysis"
   ]
  },
  {
   "cell_type": "code",
   "execution_count": 6,
   "id": "ff1c016b",
   "metadata": {},
   "outputs": [
    {
     "data": {
      "image/png": "[encoded data removed]",
      "text/plain": [
       "<Figure size 864x432 with 1 Axes>"
      ]
     },
     "metadata": {
      "needs_background": "light"
     },
     "output_type": "display_data"
    }
   ],
   "source": [
    "# Get top 10 affected countries\n",
    "top_countries = df.groupby('Country/Region')[['Confirmed', 'Deaths', 'Recovered']].sum()\n",
    "top_countries = top_countries.sort_values('Confirmed', ascending=False).head(10)\n",
    "\n",
    "# Plot top countries\n",
    "plt.figure(figsize=(12,6))\n",
    "top_countries['Confirmed'].plot(kind='bar', color='skyblue')\n",
    "plt.title('Top 10 Countries by Confirmed Cases')\n",
    "plt.xlabel('Country')\n",
    "plt.ylabel('Cases')\n",
    "plt.xticks(rotation=45)\n",
    "plt.show()"
   ]
  },
  {
   "cell_type": "markdown",
   "id": "4938a021",
   "metadata": {},
   "source": [
    "# China-Specific Analysis"
   ]
  },
  {
   "cell_type": "code",
   "execution_count": 7,
   "id": "bc1be15f",
   "metadata": {},
   "outputs": [
    {
     "data": {
      "image/png": "[encoded data removed]",
      "text/plain": [
       "<Figure size 864x432 with 1 Axes>"
      ]
     },
     "metadata": {
      "needs_background": "light"
     },
     "output_type": "display_data"
    }
   ],
   "source": [
    "# Filter China data\n",
    "china_data = df[df['Country/Region'] == 'China']\n",
    "\n",
    "# Get top 5 affected provinces\n",
    "top_provinces = china_data.groupby('Province/State')['Confirmed'].max().nlargest(5).index\n",
    "\n",
    "# Plot province trends\n",
    "plt.figure(figsize=(12,6))\n",
    "for province in top_provinces:\n",
    "    province_df = china_data[china_data['Province/State'] == province]\n",
    "    plt.plot(province_df['Date'], province_df['Confirmed'], label=province)\n",
    "    \n",
    "plt.title('COVID-19 Cases in Top 5 Chinese Provinces')\n",
    "plt.xlabel('Date')\n",
    "plt.ylabel('Cases')\n",
    "plt.legend()\n",
    "plt.xticks(rotation=45)\n",
    "plt.show()"
   ]
  },
  {
   "cell_type": "markdown",
   "id": "9f362c49",
   "metadata": {},
   "source": [
    "# Mortality and Recovery Rates"
   ]
  },
  {
   "cell_type": "code",
   "execution_count": 8,
   "id": "5b16e98d",
   "metadata": {},
   "outputs": [
    {
     "name": "stdout",
     "output_type": "stream",
     "text": [
      "Mortality and Recovery Rates by Country:\n"
     ]
    },
    {
     "data": {
      "text/html": [
       "<div>\n",
       "<style scoped>\n",
       "    .dataframe tbody tr th:only-of-type {\n",
       "        vertical-align: middle;\n",
       "    }\n",
       "\n",
       "    .dataframe tbody tr th {\n",
       "        vertical-align: top;\n",
       "    }\n",
       "\n",
       "    .dataframe thead th {\n",
       "        text-align: right;\n",
       "    }\n",
       "</style>\n",
       "<table border=\"1\" class=\"dataframe\">\n",
       "  <thead>\n",
       "    <tr style=\"text-align: right;\">\n",
       "      <th></th>\n",
       "      <th>Mortality Rate (%)</th>\n",
       "      <th>Recovery Rate (%)</th>\n",
       "    </tr>\n",
       "    <tr>\n",
       "      <th>Country/Region</th>\n",
       "      <th></th>\n",
       "      <th></th>\n",
       "    </tr>\n",
       "  </thead>\n",
       "  <tbody>\n",
       "    <tr>\n",
       "      <th>Yemen</th>\n",
       "      <td>26.36</td>\n",
       "      <td>35.40</td>\n",
       "    </tr>\n",
       "    <tr>\n",
       "      <th>Belgium</th>\n",
       "      <td>15.34</td>\n",
       "      <td>25.91</td>\n",
       "    </tr>\n",
       "    <tr>\n",
       "      <th>United Kingdom</th>\n",
       "      <td>14.95</td>\n",
       "      <td>0.47</td>\n",
       "    </tr>\n",
       "    <tr>\n",
       "      <th>France</th>\n",
       "      <td>14.37</td>\n",
       "      <td>33.86</td>\n",
       "    </tr>\n",
       "    <tr>\n",
       "      <th>Italy</th>\n",
       "      <td>13.86</td>\n",
       "      <td>58.60</td>\n",
       "    </tr>\n",
       "    <tr>\n",
       "      <th>...</th>\n",
       "      <td>...</td>\n",
       "      <td>...</td>\n",
       "    </tr>\n",
       "    <tr>\n",
       "      <th>Saint Vincent and the Grenadines</th>\n",
       "      <td>0.00</td>\n",
       "      <td>72.00</td>\n",
       "    </tr>\n",
       "    <tr>\n",
       "      <th>Saint Lucia</th>\n",
       "      <td>0.00</td>\n",
       "      <td>83.18</td>\n",
       "    </tr>\n",
       "    <tr>\n",
       "      <th>Saint Kitts and Nevis</th>\n",
       "      <td>0.00</td>\n",
       "      <td>73.08</td>\n",
       "    </tr>\n",
       "    <tr>\n",
       "      <th>Eritrea</th>\n",
       "      <td>0.00</td>\n",
       "      <td>48.57</td>\n",
       "    </tr>\n",
       "    <tr>\n",
       "      <th>Cambodia</th>\n",
       "      <td>0.00</td>\n",
       "      <td>81.49</td>\n",
       "    </tr>\n",
       "  </tbody>\n",
       "</table>\n",
       "<p>187 rows × 2 columns</p>\n",
       "</div>"
      ],
      "text/plain": [
       "                                  Mortality Rate (%)  Recovery Rate (%)\n",
       "Country/Region                                                         \n",
       "Yemen                                          26.36              35.40\n",
       "Belgium                                        15.34              25.91\n",
       "United Kingdom                                 14.95               0.47\n",
       "France                                         14.37              33.86\n",
       "Italy                                          13.86              58.60\n",
       "...                                              ...                ...\n",
       "Saint Vincent and the Grenadines                0.00              72.00\n",
       "Saint Lucia                                     0.00              83.18\n",
       "Saint Kitts and Nevis                           0.00              73.08\n",
       "Eritrea                                         0.00              48.57\n",
       "Cambodia                                        0.00              81.49\n",
       "\n",
       "[187 rows x 2 columns]"
      ]
     },
     "metadata": {},
     "output_type": "display_data"
    }
   ],
   "source": [
    "# Calculate rates for countries with at least 10 cases\n",
    "country_rates = df.groupby('Country/Region')[['Confirmed', 'Deaths', 'Recovered']].sum()\n",
    "country_rates = country_rates[country_rates['Confirmed'] >= 10]  # Filter for significant cases\n",
    "\n",
    "country_rates['Mortality Rate (%)'] = (country_rates['Deaths'] / country_rates['Confirmed'] * 100).round(2)\n",
    "country_rates['Recovery Rate (%)'] = (country_rates['Recovered'] / country_rates['Confirmed'] * 100).round(2)\n",
    "\n",
    "# Display sorted by mortality rate\n",
    "print(\"Mortality and Recovery Rates by Country:\")\n",
    "display(country_rates.sort_values('Mortality Rate (%)', ascending=False)[['Mortality Rate (%)', 'Recovery Rate (%)']])"
   ]
  },
  {
   "cell_type": "markdown",
   "id": "bfa4b2f4",
   "metadata": {},
   "source": [
    "# Export Results"
   ]
  },
  {
   "cell_type": "code",
   "execution_count": 11,
   "id": "e91e0427",
   "metadata": {},
   "outputs": [
    {
     "name": "stdout",
     "output_type": "stream",
     "text": [
      "Success! Results saved to:\n",
      "- covid_19_cleaned.csv\n",
      "- covid_summary_stats.csv\n",
      "\n",
      "Summary Statistics:\n"
     ]
    },
    {
     "data": {
      "text/html": [
       "<div>\n",
       "<style scoped>\n",
       "    .dataframe tbody tr th:only-of-type {\n",
       "        vertical-align: middle;\n",
       "    }\n",
       "\n",
       "    .dataframe tbody tr th {\n",
       "        vertical-align: top;\n",
       "    }\n",
       "\n",
       "    .dataframe thead th {\n",
       "        text-align: right;\n",
       "    }\n",
       "</style>\n",
       "<table border=\"1\" class=\"dataframe\">\n",
       "  <thead>\n",
       "    <tr style=\"text-align: right;\">\n",
       "      <th></th>\n",
       "      <th>Total Confirmed</th>\n",
       "      <th>Total Deaths</th>\n",
       "      <th>Total Recovered</th>\n",
       "      <th>Mortality Rate (%)</th>\n",
       "      <th>Recovery Rate (%)</th>\n",
       "    </tr>\n",
       "  </thead>\n",
       "  <tbody>\n",
       "    <tr>\n",
       "      <th>0</th>\n",
       "      <td>828508482</td>\n",
       "      <td>43384903</td>\n",
       "      <td>388408229</td>\n",
       "      <td>5.24</td>\n",
       "      <td>46.88</td>\n",
       "    </tr>\n",
       "  </tbody>\n",
       "</table>\n",
       "</div>"
      ],
      "text/plain": [
       "   Total Confirmed  Total Deaths  Total Recovered  Mortality Rate (%)  \\\n",
       "0        828508482      43384903        388408229                5.24   \n",
       "\n",
       "   Recovery Rate (%)  \n",
       "0              46.88  "
      ]
     },
     "metadata": {},
     "output_type": "display_data"
    }
   ],
   "source": [
    "# STEP 7: Export Results (Corrected Version)\n",
    "try:\n",
    "    # Save cleaned data\n",
    "    df.to_csv('covid_19_cleaned.csv', index=False)\n",
    "    \n",
    "    # Calculate GLOBAL totals (sum of all records)\n",
    "    global_totals = df[['Confirmed', 'Deaths', 'Recovered']].sum()\n",
    "    \n",
    "    # Create summary statistics\n",
    "    summary_stats = pd.DataFrame({\n",
    "        'Total Confirmed': [int(global_totals['Confirmed'])],\n",
    "        'Total Deaths': [int(global_totals['Deaths'])],\n",
    "        'Total Recovered': [int(global_totals['Recovered'])],\n",
    "        'Mortality Rate (%)': [(global_totals['Deaths'] / global_totals['Confirmed'] * 100).round(2)],\n",
    "        'Recovery Rate (%)': [(global_totals['Recovered'] / global_totals['Confirmed'] * 100).round(2)]\n",
    "    })\n",
    "    \n",
    "    # Save summary\n",
    "    summary_stats.to_csv('covid_summary_stats.csv', index=False)\n",
    "    \n",
    "    print(\"Success! Results saved to:\")\n",
    "    print(\"- covid_19_cleaned.csv\")\n",
    "    print(\"- covid_summary_stats.csv\")\n",
    "    \n",
    "    # Show preview\n",
    "    print(\"\\nSummary Statistics:\")\n",
    "    display(summary_stats)\n",
    "    \n",
    "except Exception as e:\n",
    "    print(f\"Error during export: {str(e)}\")"
   ]
  },
  {
   "cell_type": "code",
   "execution_count": null,
   "id": "3ab5deb2",
   "metadata": {},
   "outputs": [],
   "source": []
  }
 ],
 "metadata": {
  "kernelspec": {
   "display_name": "Python 3 (ipykernel)",
   "language": "python",
   "name": "python3"
  },
  "language_info": {
   "codemirror_mode": {
    "name": "ipython",
    "version": 3
   },
   "file_extension": ".py",
   "mimetype": "text/x-python",
   "name": "python",
   "nbconvert_exporter": "python",
   "pygments_lexer": "ipython3",
   "version": "3.9.12"
  }
 },
 "nbformat": 4,
 "nbformat_minor": 5
}
